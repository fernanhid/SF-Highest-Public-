{
 "cells": [
  {
   "cell_type": "code",
   "execution_count": 4,
   "metadata": {
    "collapsed": true
   },
   "outputs": [],
   "source": [
    "import numpy as np # linear algebra\n",
    "import pandas as pd # data processing, CSV file I/O (e.g. pd.read_csv)\n",
    "import matplotlib.pyplot as plt\n",
    "import seaborn as sns\n",
    "from datetime import datetime\n",
    "plt.style.use('fivethirtyeight')\n",
    "\n",
    "\n",
    "%matplotlib inline\n",
    "\n",
    "pd.options.mode.chained_assignment = None  # default='warn'\n",
    "df = pd.read_csv('../full-time-employees-by-job-classification.csv')\n",
    "df.columns = [i.lower().replace(' ', '_') for i in df.columns]"
   ]
  },
  {
   "cell_type": "code",
   "execution_count": 5,
   "metadata": {},
   "outputs": [
    {
     "data": {
      "text/html": [
       "<div>\n",
       "<table border=\"1\" class=\"dataframe\">\n",
       "  <thead>\n",
       "    <tr style=\"text-align: right;\">\n",
       "      <th></th>\n",
       "      <th>fy</th>\n",
       "      <th>dept_level</th>\n",
       "      <th>job_code</th>\n",
       "      <th>job_title</th>\n",
       "      <th>sum_fte</th>\n",
       "      <th>biweekly_low_rate</th>\n",
       "      <th>biweekly_high_rate</th>\n",
       "    </tr>\n",
       "  </thead>\n",
       "  <tbody>\n",
       "    <tr>\n",
       "      <th>0</th>\n",
       "      <td>2010</td>\n",
       "      <td>AAM</td>\n",
       "      <td>0922</td>\n",
       "      <td>Manager I</td>\n",
       "      <td>2.0</td>\n",
       "      <td>3282.0</td>\n",
       "      <td>4188.0</td>\n",
       "    </tr>\n",
       "    <tr>\n",
       "      <th>1</th>\n",
       "      <td>2010</td>\n",
       "      <td>AAM</td>\n",
       "      <td>0963</td>\n",
       "      <td>Dept Head III</td>\n",
       "      <td>1.0</td>\n",
       "      <td>5368.0</td>\n",
       "      <td>6851.0</td>\n",
       "    </tr>\n",
       "    <tr>\n",
       "      <th>2</th>\n",
       "      <td>2010</td>\n",
       "      <td>AAM</td>\n",
       "      <td>1450</td>\n",
       "      <td>Executive Secretary 1</td>\n",
       "      <td>1.0</td>\n",
       "      <td>2074.0</td>\n",
       "      <td>2521.0</td>\n",
       "    </tr>\n",
       "    <tr>\n",
       "      <th>3</th>\n",
       "      <td>2010</td>\n",
       "      <td>AAM</td>\n",
       "      <td>3302</td>\n",
       "      <td>Admission Attendant</td>\n",
       "      <td>4.0</td>\n",
       "      <td>1349.0</td>\n",
       "      <td>1634.0</td>\n",
       "    </tr>\n",
       "    <tr>\n",
       "      <th>4</th>\n",
       "      <td>2010</td>\n",
       "      <td>AAM</td>\n",
       "      <td>3518</td>\n",
       "      <td>Assoc Musm Cnsrvt, AAM</td>\n",
       "      <td>1.0</td>\n",
       "      <td>2377.0</td>\n",
       "      <td>2890.0</td>\n",
       "    </tr>\n",
       "  </tbody>\n",
       "</table>\n",
       "</div>"
      ],
      "text/plain": [
       "     fy dept_level job_code               job_title  sum_fte  \\\n",
       "0  2010        AAM     0922               Manager I      2.0   \n",
       "1  2010        AAM     0963           Dept Head III      1.0   \n",
       "2  2010        AAM     1450   Executive Secretary 1      1.0   \n",
       "3  2010        AAM     3302     Admission Attendant      4.0   \n",
       "4  2010        AAM     3518  Assoc Musm Cnsrvt, AAM      1.0   \n",
       "\n",
       "   biweekly_low_rate  biweekly_high_rate  \n",
       "0             3282.0              4188.0  \n",
       "1             5368.0              6851.0  \n",
       "2             2074.0              2521.0  \n",
       "3             1349.0              1634.0  \n",
       "4             2377.0              2890.0  "
      ]
     },
     "execution_count": 5,
     "metadata": {},
     "output_type": "execute_result"
    }
   ],
   "source": [
    "df.head()"
   ]
  },
  {
   "cell_type": "code",
   "execution_count": 8,
   "metadata": {},
   "outputs": [
    {
     "data": {
      "text/html": [
       "<div>\n",
       "<table border=\"1\" class=\"dataframe\">\n",
       "  <thead>\n",
       "    <tr style=\"text-align: right;\">\n",
       "      <th></th>\n",
       "      <th>fy</th>\n",
       "      <th>sum_fte</th>\n",
       "      <th>biweekly_low_rate</th>\n",
       "      <th>biweekly_high_rate</th>\n",
       "    </tr>\n",
       "  </thead>\n",
       "  <tbody>\n",
       "    <tr>\n",
       "      <th>count</th>\n",
       "      <td>2986.0</td>\n",
       "      <td>2986.000000</td>\n",
       "      <td>2986.000000</td>\n",
       "      <td>2986.000000</td>\n",
       "    </tr>\n",
       "    <tr>\n",
       "      <th>mean</th>\n",
       "      <td>2010.0</td>\n",
       "      <td>10.566202</td>\n",
       "      <td>2859.964943</td>\n",
       "      <td>3474.723912</td>\n",
       "    </tr>\n",
       "    <tr>\n",
       "      <th>std</th>\n",
       "      <td>0.0</td>\n",
       "      <td>63.911325</td>\n",
       "      <td>1214.254594</td>\n",
       "      <td>1446.844802</td>\n",
       "    </tr>\n",
       "    <tr>\n",
       "      <th>min</th>\n",
       "      <td>2010.0</td>\n",
       "      <td>0.000000</td>\n",
       "      <td>0.000000</td>\n",
       "      <td>0.000000</td>\n",
       "    </tr>\n",
       "    <tr>\n",
       "      <th>25%</th>\n",
       "      <td>2010.0</td>\n",
       "      <td>1.000000</td>\n",
       "      <td>2074.000000</td>\n",
       "      <td>2521.000000</td>\n",
       "    </tr>\n",
       "    <tr>\n",
       "      <th>50%</th>\n",
       "      <td>2010.0</td>\n",
       "      <td>2.000000</td>\n",
       "      <td>2700.000000</td>\n",
       "      <td>3263.000000</td>\n",
       "    </tr>\n",
       "    <tr>\n",
       "      <th>75%</th>\n",
       "      <td>2010.0</td>\n",
       "      <td>6.000000</td>\n",
       "      <td>3446.000000</td>\n",
       "      <td>4188.000000</td>\n",
       "    </tr>\n",
       "    <tr>\n",
       "      <th>max</th>\n",
       "      <td>2010.0</td>\n",
       "      <td>2054.750000</td>\n",
       "      <td>12120.770000</td>\n",
       "      <td>12120.770000</td>\n",
       "    </tr>\n",
       "  </tbody>\n",
       "</table>\n",
       "</div>"
      ],
      "text/plain": [
       "           fy      sum_fte  biweekly_low_rate  biweekly_high_rate\n",
       "count  2986.0  2986.000000        2986.000000         2986.000000\n",
       "mean   2010.0    10.566202        2859.964943         3474.723912\n",
       "std       0.0    63.911325        1214.254594         1446.844802\n",
       "min    2010.0     0.000000           0.000000            0.000000\n",
       "25%    2010.0     1.000000        2074.000000         2521.000000\n",
       "50%    2010.0     2.000000        2700.000000         3263.000000\n",
       "75%    2010.0     6.000000        3446.000000         4188.000000\n",
       "max    2010.0  2054.750000       12120.770000        12120.770000"
      ]
     },
     "execution_count": 8,
     "metadata": {},
     "output_type": "execute_result"
    }
   ],
   "source": [
    "df.describe()"
   ]
  },
  {
   "cell_type": "code",
   "execution_count": 10,
   "metadata": {},
   "outputs": [
    {
     "data": {
      "text/html": [
       "<div>\n",
       "<table border=\"1\" class=\"dataframe\">\n",
       "  <thead>\n",
       "    <tr style=\"text-align: right;\">\n",
       "      <th></th>\n",
       "      <th>fy</th>\n",
       "      <th>dept_level</th>\n",
       "      <th>job_code</th>\n",
       "      <th>job_title</th>\n",
       "      <th>sum_fte</th>\n",
       "      <th>biweekly_low_rate</th>\n",
       "      <th>biweekly_high_rate</th>\n",
       "    </tr>\n",
       "  </thead>\n",
       "  <tbody>\n",
       "    <tr>\n",
       "      <th>2059</th>\n",
       "      <td>2010</td>\n",
       "      <td>MTA</td>\n",
       "      <td>9186</td>\n",
       "      <td>Gen Mgr, Public Trnsp Dept</td>\n",
       "      <td>1.0</td>\n",
       "      <td>12120.77</td>\n",
       "      <td>12120.77</td>\n",
       "    </tr>\n",
       "  </tbody>\n",
       "</table>\n",
       "</div>"
      ],
      "text/plain": [
       "        fy dept_level job_code                   job_title  sum_fte  \\\n",
       "2059  2010        MTA     9186  Gen Mgr, Public Trnsp Dept      1.0   \n",
       "\n",
       "      biweekly_low_rate  biweekly_high_rate  \n",
       "2059           12120.77            12120.77  "
      ]
     },
     "execution_count": 10,
     "metadata": {},
     "output_type": "execute_result"
    }
   ],
   "source": [
    "## Highest Paid!!\n",
    "df[df.biweekly_low_rate == 12120.770000]"
   ]
  },
  {
   "cell_type": "code",
   "execution_count": null,
   "metadata": {
    "collapsed": true
   },
   "outputs": [],
   "source": []
  }
 ],
 "metadata": {
  "anaconda-cloud": {},
  "kernelspec": {
   "display_name": "Python [conda env:datasci27]",
   "language": "python",
   "name": "conda-env-datasci27-py"
  },
  "language_info": {
   "codemirror_mode": {
    "name": "ipython",
    "version": 2
   },
   "file_extension": ".py",
   "mimetype": "text/x-python",
   "name": "python",
   "nbconvert_exporter": "python",
   "pygments_lexer": "ipython2",
   "version": "2.7.13"
  }
 },
 "nbformat": 4,
 "nbformat_minor": 1
}
